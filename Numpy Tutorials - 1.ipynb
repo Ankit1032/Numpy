{
 "cells": [
  {
   "cell_type": "markdown",
   "id": "04518c32",
   "metadata": {},
   "source": [
    "### Numpy is multidimensional array library"
   ]
  },
  {
   "cell_type": "code",
   "execution_count": 1,
   "id": "e7185396",
   "metadata": {},
   "outputs": [],
   "source": [
    "import numpy as np\n",
    "import sys"
   ]
  },
  {
   "cell_type": "markdown",
   "id": "ccfb9fd4",
   "metadata": {},
   "source": [
    "## The Basics"
   ]
  },
  {
   "cell_type": "code",
   "execution_count": 2,
   "id": "c1709309",
   "metadata": {},
   "outputs": [],
   "source": [
    "a = np.array([1,2,3], dtype='int16')\n",
    "b = np.array([\n",
    "            [1.0,2.0,3.0], \n",
    "            [4.0,5.0,6.0]\n",
    "             ])"
   ]
  },
  {
   "cell_type": "code",
   "execution_count": 3,
   "id": "f25b2e9f",
   "metadata": {},
   "outputs": [
    {
     "name": "stdout",
     "output_type": "stream",
     "text": [
      "[1 2 3]\n",
      "int16\n",
      "<class 'numpy.ndarray'>\n"
     ]
    }
   ],
   "source": [
    "print(a)\n",
    "print(a.dtype)\n",
    "print(type(a))"
   ]
  },
  {
   "cell_type": "code",
   "execution_count": 4,
   "id": "7b59acc8",
   "metadata": {},
   "outputs": [
    {
     "name": "stdout",
     "output_type": "stream",
     "text": [
      "[[1. 2. 3.]\n",
      " [4. 5. 6.]]\n",
      "float64\n",
      "<class 'numpy.ndarray'>\n"
     ]
    }
   ],
   "source": [
    "print(b)\n",
    "print(b.dtype)\n",
    "print(type(b))"
   ]
  },
  {
   "cell_type": "code",
   "execution_count": 5,
   "id": "ecd2e984",
   "metadata": {},
   "outputs": [
    {
     "name": "stdout",
     "output_type": "stream",
     "text": [
      "Dimension 1\n"
     ]
    }
   ],
   "source": [
    "#Get Dimension\n",
    "print(\"Dimension\", a.ndim)"
   ]
  },
  {
   "cell_type": "code",
   "execution_count": 6,
   "id": "6227af83",
   "metadata": {},
   "outputs": [
    {
     "name": "stdout",
     "output_type": "stream",
     "text": [
      "Type: float64 ,   Size: 8 bytes\n"
     ]
    }
   ],
   "source": [
    "# Get Type/Size\n",
    "print(\"Type:\", b.dtype, \",   Size:\", b.itemsize, \"bytes\")"
   ]
  },
  {
   "cell_type": "code",
   "execution_count": 7,
   "id": "5e43d2a0",
   "metadata": {},
   "outputs": [
    {
     "name": "stdout",
     "output_type": "stream",
     "text": [
      "6\n",
      "other way to find this\n",
      "6\n"
     ]
    }
   ],
   "source": [
    "#Get total Size\n",
    "print(a.size * a.itemsize)\n",
    "print('other way to find this')\n",
    "print(a.nbytes)"
   ]
  },
  {
   "cell_type": "code",
   "execution_count": 8,
   "id": "dd5fb04c",
   "metadata": {},
   "outputs": [
    {
     "data": {
      "text/plain": [
       "2"
      ]
     },
     "execution_count": 8,
     "metadata": {},
     "output_type": "execute_result"
    }
   ],
   "source": [
    "a.itemsize"
   ]
  },
  {
   "cell_type": "markdown",
   "id": "d9b663ec",
   "metadata": {},
   "source": [
    "### Accessing/Changing specific elements, rows, columns, etc"
   ]
  },
  {
   "cell_type": "code",
   "execution_count": 9,
   "id": "8da16dee",
   "metadata": {},
   "outputs": [],
   "source": [
    "a = np.array([\n",
    "    [1,2,3,4,5,6,7],\n",
    "    [11,22,33,44,55,66,77]\n",
    "])"
   ]
  },
  {
   "cell_type": "code",
   "execution_count": 10,
   "id": "abfd3613",
   "metadata": {},
   "outputs": [
    {
     "data": {
      "text/plain": [
       "(2, 7)"
      ]
     },
     "execution_count": 10,
     "metadata": {},
     "output_type": "execute_result"
    }
   ],
   "source": [
    "a.shape"
   ]
  },
  {
   "cell_type": "code",
   "execution_count": 11,
   "id": "efb3f07c",
   "metadata": {},
   "outputs": [
    {
     "name": "stdout",
     "output_type": "stream",
     "text": [
      "[1 2 3 4 5 6 7]\n",
      "[11 22 33 44 55 66 77]\n",
      "66\n",
      "[11 22]\n",
      "[ 7 77]\n"
     ]
    }
   ],
   "source": [
    "#accessing elements \n",
    "print(a[0])\n",
    "print(a[1])\n",
    "print(a[1,5])\n",
    "print(a[1,:2])\n",
    "print(a[:,6])"
   ]
  },
  {
   "cell_type": "code",
   "execution_count": 12,
   "id": "59091c6d",
   "metadata": {},
   "outputs": [
    {
     "name": "stdout",
     "output_type": "stream",
     "text": [
      "[3 5 7]\n",
      "[22 55]\n",
      "[77 55 33]\n",
      "[77 55 33]\n"
     ]
    }
   ],
   "source": [
    "#[startIndex:endIndex:stepSize]\n",
    "print(a[0, 2::2])\n",
    "print(a[1, 1:6:3])\n",
    "print(a[1, 6:0:-2])\n",
    "print(a[1, -1:-6:-2])"
   ]
  },
  {
   "cell_type": "code",
   "execution_count": 13,
   "id": "77b87df9",
   "metadata": {},
   "outputs": [],
   "source": [
    "a[1,5] = 20"
   ]
  },
  {
   "cell_type": "code",
   "execution_count": 14,
   "id": "64923129",
   "metadata": {},
   "outputs": [
    {
     "data": {
      "text/plain": [
       "array([[ 1,  2,  3,  4,  5,  6,  7],\n",
       "       [11, 22, 33, 44, 55, 20, 77]])"
      ]
     },
     "execution_count": 14,
     "metadata": {},
     "output_type": "execute_result"
    }
   ],
   "source": [
    "a"
   ]
  },
  {
   "cell_type": "code",
   "execution_count": 15,
   "id": "e40a6ff7",
   "metadata": {},
   "outputs": [],
   "source": [
    "a[:,2] = 99"
   ]
  },
  {
   "cell_type": "code",
   "execution_count": 16,
   "id": "8249ddf4",
   "metadata": {},
   "outputs": [
    {
     "data": {
      "text/plain": [
       "array([[ 1,  2, 99,  4,  5,  6,  7],\n",
       "       [11, 22, 99, 44, 55, 20, 77]])"
      ]
     },
     "execution_count": 16,
     "metadata": {},
     "output_type": "execute_result"
    }
   ],
   "source": [
    "a"
   ]
  },
  {
   "cell_type": "code",
   "execution_count": 17,
   "id": "8563c111",
   "metadata": {},
   "outputs": [],
   "source": [
    "a[1,3:5] = [40,50]"
   ]
  },
  {
   "cell_type": "code",
   "execution_count": 18,
   "id": "a0b12bd7",
   "metadata": {},
   "outputs": [
    {
     "data": {
      "text/plain": [
       "array([[ 1,  2, 99,  4,  5,  6,  7],\n",
       "       [11, 22, 99, 40, 50, 20, 77]])"
      ]
     },
     "execution_count": 18,
     "metadata": {},
     "output_type": "execute_result"
    }
   ],
   "source": [
    "a"
   ]
  },
  {
   "cell_type": "markdown",
   "id": "b116d8db",
   "metadata": {},
   "source": [
    "#### 3D Array Example"
   ]
  },
  {
   "cell_type": "code",
   "execution_count": 19,
   "id": "df68341b",
   "metadata": {},
   "outputs": [],
   "source": [
    "c = np.array([[\n",
    "            [1,2],\n",
    "            [3,4]\n",
    "        ],\n",
    "        [\n",
    "            [6,7],\n",
    "            [8,9]\n",
    "        ]\n",
    "])"
   ]
  },
  {
   "cell_type": "code",
   "execution_count": 20,
   "id": "c5cf9026",
   "metadata": {},
   "outputs": [
    {
     "name": "stdout",
     "output_type": "stream",
     "text": [
      "[[[1 2]\n",
      "  [3 4]]\n",
      "\n",
      " [[6 7]\n",
      "  [8 9]]]\n",
      "int32\n"
     ]
    }
   ],
   "source": [
    "print(c)\n",
    "print(c.dtype)"
   ]
  },
  {
   "cell_type": "code",
   "execution_count": 21,
   "id": "2ee4534a",
   "metadata": {},
   "outputs": [
    {
     "name": "stdout",
     "output_type": "stream",
     "text": [
      "4\n",
      "[3 4]\n",
      "[[1 2]\n",
      " [3 4]]\n",
      "[4 9]\n"
     ]
    }
   ],
   "source": [
    "print(c[0,1,1])\n",
    "print(c[0,1,:])\n",
    "print(c[0,:,:])\n",
    "print(c[:,1,1])"
   ]
  },
  {
   "cell_type": "markdown",
   "id": "e40e8a47",
   "metadata": {},
   "source": [
    "#### Initializing different types of arrays"
   ]
  },
  {
   "cell_type": "code",
   "execution_count": 22,
   "id": "6e869569",
   "metadata": {},
   "outputs": [
    {
     "data": {
      "text/plain": [
       "array([0., 0., 0., 0., 0.])"
      ]
     },
     "execution_count": 22,
     "metadata": {},
     "output_type": "execute_result"
    }
   ],
   "source": [
    "# All 0s matrix\n",
    "np.zeros(5)"
   ]
  },
  {
   "cell_type": "code",
   "execution_count": 23,
   "id": "be0bab32",
   "metadata": {},
   "outputs": [
    {
     "data": {
      "text/plain": [
       "array([[0., 0., 0.],\n",
       "       [0., 0., 0.]])"
      ]
     },
     "execution_count": 23,
     "metadata": {},
     "output_type": "execute_result"
    }
   ],
   "source": [
    "np.zeros((2,3))"
   ]
  },
  {
   "cell_type": "code",
   "execution_count": 24,
   "id": "2ff38b0a",
   "metadata": {},
   "outputs": [
    {
     "data": {
      "text/plain": [
       "array([[[[0., 0.],\n",
       "         [0., 0.],\n",
       "         [0., 0.]],\n",
       "\n",
       "        [[0., 0.],\n",
       "         [0., 0.],\n",
       "         [0., 0.]]],\n",
       "\n",
       "\n",
       "       [[[0., 0.],\n",
       "         [0., 0.],\n",
       "         [0., 0.]],\n",
       "\n",
       "        [[0., 0.],\n",
       "         [0., 0.],\n",
       "         [0., 0.]]],\n",
       "\n",
       "\n",
       "       [[[0., 0.],\n",
       "         [0., 0.],\n",
       "         [0., 0.]],\n",
       "\n",
       "        [[0., 0.],\n",
       "         [0., 0.],\n",
       "         [0., 0.]]]])"
      ]
     },
     "execution_count": 24,
     "metadata": {},
     "output_type": "execute_result"
    }
   ],
   "source": [
    "# can output ND zero arrays\n",
    "np.zeros((3,2,3,2))"
   ]
  },
  {
   "cell_type": "code",
   "execution_count": 25,
   "id": "ca2fbbd8",
   "metadata": {},
   "outputs": [
    {
     "data": {
      "text/plain": [
       "array([[1, 1],\n",
       "       [1, 1],\n",
       "       [1, 1],\n",
       "       [1, 1],\n",
       "       [1, 1]])"
      ]
     },
     "execution_count": 25,
     "metadata": {},
     "output_type": "execute_result"
    }
   ],
   "source": [
    "# All 1s matrix\n",
    "np.ones((5,2),dtype='int32')"
   ]
  },
  {
   "cell_type": "code",
   "execution_count": 26,
   "id": "cb5b9c8d",
   "metadata": {},
   "outputs": [
    {
     "name": "stdout",
     "output_type": "stream",
     "text": [
      "[[99 99]\n",
      " [99 99]]\n",
      "=================\n",
      "[[99.  1.]\n",
      " [99.  1.]]\n"
     ]
    }
   ],
   "source": [
    "# Any other number\n",
    "# Syntax: np.full(shape,number)\n",
    "print(np.full((2,2), (99)))\n",
    "print(\"=================\")\n",
    "print(np.full((2,2), (99,1),dtype='float32'))"
   ]
  },
  {
   "cell_type": "markdown",
   "id": "b2b36356",
   "metadata": {},
   "source": [
    "<b>Random Decimal Numbers</b> "
   ]
  },
  {
   "cell_type": "code",
   "execution_count": 27,
   "id": "ed67336f",
   "metadata": {},
   "outputs": [
    {
     "name": "stdout",
     "output_type": "stream",
     "text": [
      "[0.64953751 0.62522377 0.84762529]\n",
      "=================\n",
      "[[0.09653099 0.25576882 0.71964792]\n",
      " [0.73230403 0.59000283 0.71789757]\n",
      " [0.85078076 0.25121944 0.6363133 ]\n",
      " [0.90569446 0.64550919 0.40465931]\n",
      " [0.73215342 0.73285244 0.72033462]]\n"
     ]
    }
   ],
   "source": [
    "print(np.random.rand(3))\n",
    "print(\"=================\")\n",
    "print(np.random.rand(5,3))"
   ]
  },
  {
   "cell_type": "markdown",
   "id": "1aa0e37d",
   "metadata": {},
   "source": [
    "<b>Random Integer Numbers</b> "
   ]
  },
  {
   "cell_type": "code",
   "execution_count": 28,
   "id": "0c405340",
   "metadata": {},
   "outputs": [
    {
     "name": "stdout",
     "output_type": "stream",
     "text": [
      "0\n",
      "=================\n",
      "[[3 2 3]\n",
      " [3 2 2]]\n"
     ]
    }
   ],
   "source": [
    "print(np.random.randint(3))\n",
    "print(\"=================\")\n",
    "# Syntax - start,end,size\n",
    "print(np.random.randint(2,5,size=(2,3)))"
   ]
  },
  {
   "cell_type": "code",
   "execution_count": 29,
   "id": "b0623ea0",
   "metadata": {},
   "outputs": [
    {
     "name": "stdout",
     "output_type": "stream",
     "text": [
      "[[1 2 3]\n",
      " [1 2 3]\n",
      " [1 2 3]]\n",
      "====\n",
      "[[1 1 1 2 2 2 3 3 3]]\n"
     ]
    }
   ],
   "source": [
    "# repeat Array\n",
    "arr = np.array([[1,2,3]])\n",
    "r1 = np.repeat(arr,3, axis=0)\n",
    "r2 = np.repeat(arr,3, axis=1)\n",
    "print(r1)\n",
    "print(\"====\")\n",
    "print(r2)"
   ]
  },
  {
   "cell_type": "markdown",
   "id": "85a08c4e",
   "metadata": {},
   "source": [
    "#### Challenge\n",
    "<b>Make the below table</b><br>\n",
    "1 1 1 1 1<br>\n",
    "1 0 0 0 1<br>\n",
    "1 0 9 0 1<br>\n",
    "1 0 0 0 1<br>\n",
    "1 1 1 1 1<br>"
   ]
  },
  {
   "cell_type": "code",
   "execution_count": 30,
   "id": "7997e491",
   "metadata": {},
   "outputs": [
    {
     "data": {
      "text/plain": [
       "array([[1., 1., 1., 1., 1.],\n",
       "       [1., 1., 1., 1., 1.],\n",
       "       [1., 1., 1., 1., 1.],\n",
       "       [1., 1., 1., 1., 1.],\n",
       "       [1., 1., 1., 1., 1.]])"
      ]
     },
     "execution_count": 30,
     "metadata": {},
     "output_type": "execute_result"
    }
   ],
   "source": [
    "ch1 = np.ones((5,5))\n",
    "ch1"
   ]
  },
  {
   "cell_type": "code",
   "execution_count": 31,
   "id": "4f0a0f3b",
   "metadata": {},
   "outputs": [
    {
     "data": {
      "text/plain": [
       "array([[0., 0., 0.],\n",
       "       [0., 9., 0.],\n",
       "       [0., 0., 0.]])"
      ]
     },
     "execution_count": 31,
     "metadata": {},
     "output_type": "execute_result"
    }
   ],
   "source": [
    "ch0 = np.zeros((3,3))\n",
    "ch0[1,1] = 9\n",
    "ch0"
   ]
  },
  {
   "cell_type": "code",
   "execution_count": 32,
   "id": "74cdc281",
   "metadata": {},
   "outputs": [],
   "source": [
    "ch1[1:4,1:4] = ch0"
   ]
  },
  {
   "cell_type": "code",
   "execution_count": 33,
   "id": "0cd2812e",
   "metadata": {},
   "outputs": [
    {
     "data": {
      "text/plain": [
       "array([[1., 1., 1., 1., 1.],\n",
       "       [1., 0., 0., 0., 1.],\n",
       "       [1., 0., 9., 0., 1.],\n",
       "       [1., 0., 0., 0., 1.],\n",
       "       [1., 1., 1., 1., 1.]])"
      ]
     },
     "execution_count": 33,
     "metadata": {},
     "output_type": "execute_result"
    }
   ],
   "source": [
    "#Output\n",
    "ch1"
   ]
  },
  {
   "cell_type": "markdown",
   "id": "0230476d",
   "metadata": {},
   "source": [
    "#### Be careful when copying arrays!!!"
   ]
  },
  {
   "cell_type": "code",
   "execution_count": 34,
   "id": "1f44a839",
   "metadata": {},
   "outputs": [
    {
     "name": "stdout",
     "output_type": "stream",
     "text": [
      "b:  [100   2   3]\n",
      "a:  [100   2   3]\n"
     ]
    }
   ],
   "source": [
    "a = np.array([1,2,3])\n",
    "b = a\n",
    "b[0] = 100\n",
    "print(\"b: \",b)\n",
    "print(\"a: \",a)"
   ]
  },
  {
   "cell_type": "code",
   "execution_count": 35,
   "id": "0af4903d",
   "metadata": {},
   "outputs": [
    {
     "name": "stdout",
     "output_type": "stream",
     "text": [
      "b:  [100   2   3]\n",
      "a:  [1 2 3]\n"
     ]
    }
   ],
   "source": [
    "# you see even tho you changed value of b, \n",
    "#value of a got changed\n",
    "# Here b just points to the same place as a\n",
    "# To prevent it, we need to use .copy() function\n",
    "a = np.array([1,2,3])\n",
    "b = a.copy()\n",
    "b[0] = 100\n",
    "print(\"b: \",b)\n",
    "print(\"a: \",a)"
   ]
  },
  {
   "cell_type": "markdown",
   "id": "694436a2",
   "metadata": {},
   "source": [
    "#### Mathematics"
   ]
  },
  {
   "cell_type": "code",
   "execution_count": 36,
   "id": "c099810d",
   "metadata": {},
   "outputs": [
    {
     "data": {
      "text/plain": [
       "array([1, 2, 4, 7])"
      ]
     },
     "execution_count": 36,
     "metadata": {},
     "output_type": "execute_result"
    }
   ],
   "source": [
    "a = np.array([1,2,4,7])\n",
    "a"
   ]
  },
  {
   "cell_type": "code",
   "execution_count": 37,
   "id": "a6bf4cfd",
   "metadata": {},
   "outputs": [
    {
     "data": {
      "text/plain": [
       "array([ 5,  6,  8, 11])"
      ]
     },
     "execution_count": 37,
     "metadata": {},
     "output_type": "execute_result"
    }
   ],
   "source": [
    "a + 4"
   ]
  },
  {
   "cell_type": "code",
   "execution_count": 38,
   "id": "6601364f",
   "metadata": {},
   "outputs": [
    {
     "data": {
      "text/plain": [
       "array([-8, -7, -5, -2])"
      ]
     },
     "execution_count": 38,
     "metadata": {},
     "output_type": "execute_result"
    }
   ],
   "source": [
    "a - 9"
   ]
  },
  {
   "cell_type": "code",
   "execution_count": 39,
   "id": "cd7d41dd",
   "metadata": {},
   "outputs": [
    {
     "data": {
      "text/plain": [
       "array([ 2,  4,  8, 14])"
      ]
     },
     "execution_count": 39,
     "metadata": {},
     "output_type": "execute_result"
    }
   ],
   "source": [
    "a *= 2\n",
    "a"
   ]
  },
  {
   "cell_type": "code",
   "execution_count": 40,
   "id": "842bb4e9",
   "metadata": {},
   "outputs": [
    {
     "data": {
      "text/plain": [
       "array([0.66666667, 1.33333333, 2.66666667, 4.66666667])"
      ]
     },
     "execution_count": 40,
     "metadata": {},
     "output_type": "execute_result"
    }
   ],
   "source": [
    "a / 3"
   ]
  },
  {
   "cell_type": "code",
   "execution_count": 41,
   "id": "76ff6ca2",
   "metadata": {},
   "outputs": [],
   "source": [
    "b = np.array([2,5,1,9])"
   ]
  },
  {
   "cell_type": "code",
   "execution_count": 42,
   "id": "c50cb2c9",
   "metadata": {},
   "outputs": [
    {
     "data": {
      "text/plain": [
       "array([ 4,  9,  9, 23])"
      ]
     },
     "execution_count": 42,
     "metadata": {},
     "output_type": "execute_result"
    }
   ],
   "source": [
    "a + b"
   ]
  },
  {
   "cell_type": "code",
   "execution_count": 43,
   "id": "1cfc66fc",
   "metadata": {},
   "outputs": [
    {
     "data": {
      "text/plain": [
       "array([  4,  16,  64, 196])"
      ]
     },
     "execution_count": 43,
     "metadata": {},
     "output_type": "execute_result"
    }
   ],
   "source": [
    "a ** 2"
   ]
  },
  {
   "cell_type": "code",
   "execution_count": 44,
   "id": "2c9bf7b4",
   "metadata": {},
   "outputs": [
    {
     "data": {
      "text/plain": [
       "array([ 0.90929743, -0.7568025 ,  0.98935825,  0.99060736])"
      ]
     },
     "execution_count": 44,
     "metadata": {},
     "output_type": "execute_result"
    }
   ],
   "source": [
    "#take sin\n",
    "np.sin(a)"
   ]
  },
  {
   "cell_type": "markdown",
   "id": "8621cefd",
   "metadata": {},
   "source": [
    "#### Linear Algebra"
   ]
  },
  {
   "cell_type": "code",
   "execution_count": 45,
   "id": "59ccd27f",
   "metadata": {},
   "outputs": [
    {
     "name": "stdout",
     "output_type": "stream",
     "text": [
      "a:  [[1. 1. 1.]\n",
      " [1. 1. 1.]\n",
      " [1. 1. 1.]]\n",
      "\n",
      "b:  [[2 4]\n",
      " [2 4]\n",
      " [2 4]]\n",
      "\n",
      "Matrix Multiplication:\n",
      " [[ 6. 12.]\n",
      " [ 6. 12.]\n",
      " [ 6. 12.]]\n"
     ]
    }
   ],
   "source": [
    "'''\n",
    "Multiplication of matrices\n",
    "condition : matrix-1 shape = (r1,c1)\n",
    "            matrix-2 shape = (r2,c2)\n",
    "            For these matrix to multiply, c1 == r2\n",
    "'''\n",
    "a = np.ones((3,3))\n",
    "print(\"a: \",a)\n",
    "print()\n",
    "b = np.full((3,2),(2,4))\n",
    "print(\"b: \",b)\n",
    "print()\n",
    "print(\"Matrix Multiplication:\\n\",np.matmul(a,b))"
   ]
  },
  {
   "cell_type": "code",
   "execution_count": 46,
   "id": "90a528ca",
   "metadata": {},
   "outputs": [],
   "source": [
    "# You can use numpy to find eigen values, determinant, \n",
    "# inverse of matrix, identity matrix"
   ]
  },
  {
   "cell_type": "markdown",
   "id": "914b8f3e",
   "metadata": {},
   "source": [
    "#### Statistics"
   ]
  },
  {
   "cell_type": "code",
   "execution_count": 47,
   "id": "2267983e",
   "metadata": {},
   "outputs": [
    {
     "data": {
      "text/plain": [
       "array([[1, 2, 3],\n",
       "       [4, 5, 6]])"
      ]
     },
     "execution_count": 47,
     "metadata": {},
     "output_type": "execute_result"
    }
   ],
   "source": [
    "stats = np.array([[1,2,3],[4,5,6]])\n",
    "stats"
   ]
  },
  {
   "cell_type": "code",
   "execution_count": 48,
   "id": "372f9daf",
   "metadata": {},
   "outputs": [
    {
     "data": {
      "text/plain": [
       "1"
      ]
     },
     "execution_count": 48,
     "metadata": {},
     "output_type": "execute_result"
    }
   ],
   "source": [
    "np.min(stats)"
   ]
  },
  {
   "cell_type": "code",
   "execution_count": 49,
   "id": "a4e92342",
   "metadata": {},
   "outputs": [
    {
     "data": {
      "text/plain": [
       "array([1, 4])"
      ]
     },
     "execution_count": 49,
     "metadata": {},
     "output_type": "execute_result"
    }
   ],
   "source": [
    "np.min(stats,axis=1)"
   ]
  },
  {
   "cell_type": "code",
   "execution_count": 50,
   "id": "3c0aa30e",
   "metadata": {},
   "outputs": [
    {
     "data": {
      "text/plain": [
       "6"
      ]
     },
     "execution_count": 50,
     "metadata": {},
     "output_type": "execute_result"
    }
   ],
   "source": [
    "np.max(stats)"
   ]
  },
  {
   "cell_type": "code",
   "execution_count": 51,
   "id": "95673576",
   "metadata": {},
   "outputs": [
    {
     "data": {
      "text/plain": [
       "21"
      ]
     },
     "execution_count": 51,
     "metadata": {},
     "output_type": "execute_result"
    }
   ],
   "source": [
    "np.sum(stats)"
   ]
  },
  {
   "cell_type": "markdown",
   "id": "926ccb01",
   "metadata": {},
   "source": [
    "#### Reorganizing Arrays"
   ]
  },
  {
   "cell_type": "code",
   "execution_count": 52,
   "id": "15ace5a7",
   "metadata": {},
   "outputs": [
    {
     "name": "stdout",
     "output_type": "stream",
     "text": [
      "[[1 2 3 4]\n",
      " [5 6 7 8]]\n"
     ]
    }
   ],
   "source": [
    "before = np.array([[1,2,3,4],[5,6,7,8]])\n",
    "print(before) "
   ]
  },
  {
   "cell_type": "code",
   "execution_count": 53,
   "id": "466fd755",
   "metadata": {},
   "outputs": [
    {
     "name": "stdout",
     "output_type": "stream",
     "text": [
      "[[1 2]\n",
      " [3 4]\n",
      " [5 6]\n",
      " [7 8]]\n"
     ]
    }
   ],
   "source": [
    "'''\n",
    "np.reshape is a function provided by the NumPy library in \n",
    "Python, and it is used to change the shape of an array \n",
    "without changing its data.\n",
    "'''\n",
    "#The no of values has to be same while reshaping\n",
    "after = before.reshape((4,2))\n",
    "print(after)"
   ]
  },
  {
   "cell_type": "code",
   "execution_count": 54,
   "id": "d90e466d",
   "metadata": {},
   "outputs": [
    {
     "data": {
      "text/plain": [
       "array([[1],\n",
       "       [2],\n",
       "       [3],\n",
       "       [4],\n",
       "       [5],\n",
       "       [6],\n",
       "       [7],\n",
       "       [8]])"
      ]
     },
     "execution_count": 54,
     "metadata": {},
     "output_type": "execute_result"
    }
   ],
   "source": [
    "before.reshape((8,1))"
   ]
  },
  {
   "cell_type": "code",
   "execution_count": 55,
   "id": "7c7a902f",
   "metadata": {},
   "outputs": [
    {
     "data": {
      "text/plain": [
       "array([[[1, 2],\n",
       "        [3, 4]],\n",
       "\n",
       "       [[5, 6],\n",
       "        [7, 8]]])"
      ]
     },
     "execution_count": 55,
     "metadata": {},
     "output_type": "execute_result"
    }
   ],
   "source": [
    "before.reshape((2,2,2))"
   ]
  },
  {
   "cell_type": "code",
   "execution_count": 56,
   "id": "bd0ac5b0",
   "metadata": {},
   "outputs": [
    {
     "data": {
      "text/plain": [
       "array([[1, 2, 3, 4],\n",
       "       [5, 6, 7, 8],\n",
       "       [1, 2, 3, 4],\n",
       "       [5, 6, 7, 8]])"
      ]
     },
     "execution_count": 56,
     "metadata": {},
     "output_type": "execute_result"
    }
   ],
   "source": [
    "# Vertically stacking vectors\n",
    "'''\n",
    "numpy.vstack() function is used to stack the \n",
    "sequence of input arrays vertically to make a single array.\n",
    "'''\n",
    "v1 = np.array([1,2,3,4])\n",
    "v2 = np.array([5,6,7,8])\n",
    "\n",
    "np.vstack([v1,v2,v1,v2])"
   ]
  },
  {
   "cell_type": "code",
   "execution_count": 57,
   "id": "bd959502",
   "metadata": {},
   "outputs": [
    {
     "data": {
      "text/plain": [
       "array([1, 2, 3, 4, 5, 6, 7, 8, 1, 2, 3, 4, 5, 6, 7, 8])"
      ]
     },
     "execution_count": 57,
     "metadata": {},
     "output_type": "execute_result"
    }
   ],
   "source": [
    "v1 = np.array([1,2,3,4])\n",
    "v2 = np.array([5,6,7,8])\n",
    "\n",
    "np.hstack([v1,v2,v1,v2])"
   ]
  },
  {
   "cell_type": "code",
   "execution_count": 58,
   "id": "6b65a69e",
   "metadata": {},
   "outputs": [
    {
     "data": {
      "text/plain": [
       "array([8, 6, 1])"
      ]
     },
     "execution_count": 58,
     "metadata": {},
     "output_type": "execute_result"
    }
   ],
   "source": [
    "# you can index with a list in NumPy\n",
    "a = np.array([4,8,3,6,2,1])\n",
    "a[[1,3,5]]"
   ]
  },
  {
   "cell_type": "code",
   "execution_count": 59,
   "id": "c3bfb0e0",
   "metadata": {},
   "outputs": [],
   "source": [
    "#Accessing matrix\n",
    "mat = np.array([\n",
    "    [1,2,3,4,5],\n",
    "    [6,7,8,9,10],\n",
    "    [11,12,13,14,15],\n",
    "    [16,17,18,19,20],\n",
    "    [21,22,23,24,25],\n",
    "    [26,27,28,29,30]\n",
    "])"
   ]
  },
  {
   "cell_type": "code",
   "execution_count": 60,
   "id": "4c0c8fdd",
   "metadata": {},
   "outputs": [
    {
     "data": {
      "text/plain": [
       "array([[ 1,  2,  3,  4,  5],\n",
       "       [ 6,  7,  8,  9, 10],\n",
       "       [11, 12, 13, 14, 15],\n",
       "       [16, 17, 18, 19, 20],\n",
       "       [21, 22, 23, 24, 25],\n",
       "       [26, 27, 28, 29, 30]])"
      ]
     },
     "execution_count": 60,
     "metadata": {},
     "output_type": "execute_result"
    }
   ],
   "source": [
    "mat"
   ]
  },
  {
   "cell_type": "code",
   "execution_count": 61,
   "id": "ce3a12ea",
   "metadata": {},
   "outputs": [
    {
     "data": {
      "text/plain": [
       "array([[11, 12],\n",
       "       [16, 17]])"
      ]
     },
     "execution_count": 61,
     "metadata": {},
     "output_type": "execute_result"
    }
   ],
   "source": [
    "mat[2:4,0:2]"
   ]
  },
  {
   "cell_type": "code",
   "execution_count": 62,
   "id": "1b41966a",
   "metadata": {},
   "outputs": [
    {
     "data": {
      "text/plain": [
       "array([ 2,  8, 14, 20])"
      ]
     },
     "execution_count": 62,
     "metadata": {},
     "output_type": "execute_result"
    }
   ],
   "source": [
    "mat[[0,1,2,3],[1,2,3,4]]"
   ]
  },
  {
   "cell_type": "code",
   "execution_count": 63,
   "id": "904a7147",
   "metadata": {},
   "outputs": [
    {
     "data": {
      "text/plain": [
       "array([[ 4,  5],\n",
       "       [24, 25],\n",
       "       [29, 30]])"
      ]
     },
     "execution_count": 63,
     "metadata": {},
     "output_type": "execute_result"
    }
   ],
   "source": [
    "mat[[0,4,5],3:]"
   ]
  },
  {
   "cell_type": "code",
   "execution_count": null,
   "id": "2a98b15d",
   "metadata": {},
   "outputs": [],
   "source": []
  },
  {
   "cell_type": "code",
   "execution_count": null,
   "id": "431bfb32",
   "metadata": {},
   "outputs": [],
   "source": []
  },
  {
   "cell_type": "code",
   "execution_count": null,
   "id": "ea1260a5",
   "metadata": {},
   "outputs": [],
   "source": []
  },
  {
   "cell_type": "code",
   "execution_count": null,
   "id": "dedc0e84",
   "metadata": {},
   "outputs": [],
   "source": []
  }
 ],
 "metadata": {
  "kernelspec": {
   "display_name": "Python 3 (ipykernel)",
   "language": "python",
   "name": "python3"
  },
  "language_info": {
   "codemirror_mode": {
    "name": "ipython",
    "version": 3
   },
   "file_extension": ".py",
   "mimetype": "text/x-python",
   "name": "python",
   "nbconvert_exporter": "python",
   "pygments_lexer": "ipython3",
   "version": "3.10.4"
  }
 },
 "nbformat": 4,
 "nbformat_minor": 5
}
